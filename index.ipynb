{
 "cells": [
  {
   "cell_type": "markdown",
   "id": "520da1bd",
   "metadata": {},
   "source": [
    "\n",
    "### Importing Libraries\n",
    "Import necessary libraries for data analysis and visualization.\n"
   ]
  },
  {
   "cell_type": "code",
   "execution_count": null,
   "id": "68b2861c",
   "metadata": {},
   "outputs": [],
   "source": [
    "\n",
    "import pandas as pd\n",
    "import matplotlib.pyplot as plt\n"
   ]
  },
  {
   "cell_type": "markdown",
   "id": "f5222a9c",
   "metadata": {},
   "source": [
    "\n",
    "### Load the Dataset\n",
    "Load the Chipotle dataset from the provided CSV file.\n"
   ]
  },
  {
   "cell_type": "code",
   "execution_count": null,
   "id": "1d78e01c",
   "metadata": {},
   "outputs": [],
   "source": [
    "\n",
    "file_path = 'chipotle.csv'  # Replace with the correct path\n",
    "chipotle_data = pd.read_csv(file_path, delimiter='\\t')\n",
    "chipotle_data.head()\n"
   ]
  },
  {
   "cell_type": "markdown",
   "id": "c2d5a8da",
   "metadata": {},
   "source": [
    "\n",
    "### Data Preprocessing\n",
    "Convert 'item_price' from a string to a float and handle any missing values.\n"
   ]
  },
  {
   "cell_type": "code",
   "execution_count": null,
   "id": "6ae611b1",
   "metadata": {},
   "outputs": [],
   "source": [
    "\n",
    "# Convert 'item_price' to numerical format\n",
    "chipotle_data['item_price'] = chipotle_data['item_price'].str.replace('$', '').astype(float)\n"
   ]
  },
  {
   "cell_type": "markdown",
   "id": "87188f14",
   "metadata": {},
   "source": [
    "\n",
    "### Sales Analysis\n",
    "Calculate the total order count and total sales for each item.\n"
   ]
  },
  {
   "cell_type": "code",
   "execution_count": null,
   "id": "71132845",
   "metadata": {},
   "outputs": [],
   "source": [
    "\n",
    "sales_analysis = chipotle_data.groupby('item_name').agg(\n",
    "    Total_Orders=pd.NamedAgg(column='quantity', aggfunc='sum'),\n",
    "    Total_Sales=pd.NamedAgg(column='item_price', aggfunc='sum')\n",
    ").reset_index().sort_values(by='Total_Sales', ascending=False)\n",
    "sales_analysis.head()\n"
   ]
  },
  {
   "cell_type": "markdown",
   "id": "7603d1b9",
   "metadata": {},
   "source": [
    "\n",
    "### Customer Preference Analysis\n",
    "Analyze the variety of choices for the most popular items.\n"
   ]
  },
  {
   "cell_type": "code",
   "execution_count": null,
   "id": "297eaa2f",
   "metadata": {},
   "outputs": [],
   "source": [
    "\n",
    "# Analyze the choice_description for popular items\n",
    "popular_items = sales_analysis_sorted.head(5)['item_name']\n",
    "chipotle_data[chipotle_data['item_name'].isin(popular_items)].groupby('item_name')['choice_description'].value_counts().head(10)\n"
   ]
  },
  {
   "cell_type": "markdown",
   "id": "4760bb41",
   "metadata": {},
   "source": [
    "\n",
    "### Price Analysis\n",
    "Understand the relationship between item price and order quantity.\n"
   ]
  },
  {
   "cell_type": "code",
   "execution_count": null,
   "id": "df25f9cd",
   "metadata": {},
   "outputs": [],
   "source": [
    "\n",
    "# Analyze the relationship between item price and order quantity\n",
    "plt.scatter(chipotle_data['item_price'], chipotle_data['quantity'])\n",
    "plt.xlabel('Item Price')\n",
    "plt.ylabel('Quantity Ordered')\n",
    "plt.title('Price vs Quantity Ordered')\n",
    "plt.show()\n"
   ]
  }
 ],
 "metadata": {},
 "nbformat": 4,
 "nbformat_minor": 5
}
